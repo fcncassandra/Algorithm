{
 "cells": [
  {
   "cell_type": "markdown",
   "metadata": {},
   "source": [
    "准确率(Accuracy)：这三个指标里最直观的就是准确率: 模型判断正确的数据(TP+TN)占总数据的比例"
   ]
  },
  {
   "cell_type": "raw",
   "metadata": {},
   "source": [
    "\"Accuracy: \"+str(round((tp+tn)/(tp+fp+fn+tn), ))"
   ]
  },
  {
   "cell_type": "markdown",
   "metadata": {},
   "source": [
    "召回率(Recall)：针对数据集中的所有正例(TP+FN)而言,模型正确判断出的正例(TP)占**数据集**中所有正例的比例.FN表示被模型误认为是负例但实际是正例的数据.召回率也叫查全率,以物体检测为例,我们往往把图片中的物体作为正例,**此时召回率高代表着模型可以找出图片中更多的物体!**"
   ]
  },
  {
   "cell_type": "raw",
   "metadata": {},
   "source": [
    "\"Recall: \"+str(round((tp)/(tp+fn), ))"
   ]
  },
  {
   "cell_type": "markdown",
   "metadata": {},
   "source": [
    "精确率(Precision)：针对模型判断出的所有正例(TP+FP)而言,其中**真正正例**(TP)占的比例.精确率也叫查准率,还是以物体检测为例,精确率高表示模型检测出的物体中大部分确实是物体,只有少量不是物体的对象被当成物体"
   ]
  },
  {
   "cell_type": "raw",
   "metadata": {},
   "source": [
    "\"Precision: \"+str(round((tp)/(tp+fp), ))"
   ]
  }
 ],
 "metadata": {
  "kernelspec": {
   "display_name": "pytorch",
   "language": "python",
   "name": "pytorch"
  },
  "language_info": {
   "codemirror_mode": {
    "name": "ipython",
    "version": 3
   },
   "file_extension": ".py",
   "mimetype": "text/x-python",
   "name": "python",
   "nbconvert_exporter": "python",
   "pygments_lexer": "ipython3",
   "version": "3.7.12"
  }
 },
 "nbformat": 4,
 "nbformat_minor": 4
}
