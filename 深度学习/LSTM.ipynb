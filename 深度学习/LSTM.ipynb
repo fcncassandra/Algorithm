{
 "cells": [
  {
   "cell_type": "markdown",
   "metadata": {},
   "source": [
    "# LSTM"
   ]
  },
  {
   "cell_type": "markdown",
   "metadata": {},
   "source": [
    "RNN容易出现梯度爆炸和梯度消失，因为相邻的时间步是连载一起的，因此权重偏导数要么都小于要么都大于1，因此难以训练，存在短时记忆的问题  \n",
    "LSTM增加了一个状态C并利用了3个门实现了对信息的更精准的控制，并且能够有效解决信息的长期以来，避免梯度消失或爆炸"
   ]
  },
  {
   "cell_type": "markdown",
   "metadata": {},
   "source": [
    "遗忘门Forget Gate，决定了上一时刻单元状态$c_{t-1}$有多少保留到当前时刻$c_t$   \n",
    "输入门Input Gate，决定了当前时刻网络的输入$x_t$有多少保留到单元状态$c_t$  \n",
    "输出门Output Gate，控制单元状态$c_t$有多少输出到LSTM的当前输出值$h_t$  \n",
    "比如RNN多了3个线性变换，所以LSTM的参数个数是RNN的4倍"
   ]
  },
  {
   "cell_type": "markdown",
   "metadata": {},
   "source": [
    "![](./pics/LSTM_model.png)"
   ]
  },
  {
   "cell_type": "markdown",
   "metadata": {},
   "source": [
    "参考：《Python深度学习基于PyTroch》"
   ]
  },
  {
   "cell_type": "markdown",
   "metadata": {},
   "source": [
    "## 1 Pytorch实现"
   ]
  },
  {
   "cell_type": "code",
   "execution_count": 1,
   "metadata": {},
   "outputs": [],
   "source": [
    "import torch\n",
    "import torch.nn as nn"
   ]
  },
  {
   "cell_type": "code",
   "execution_count": 3,
   "metadata": {},
   "outputs": [],
   "source": [
    "lstm = nn.LSTM(input_size=10, hidden_size=20, num_layers=2)"
   ]
  },
  {
   "cell_type": "raw",
   "metadata": {},
   "source": [
    "# 第一层相关参数形状 (torch.Size([20, 10]), torch.Size([20, 20]), torch.Size([20]))\n",
    "rnn.weight_ih_l0.shape, rnn.weight_hh_l0.shape, rnn.bias_hh_l0.shape \n",
    "# 第二层相关参数形状 (torch.Size([20, 20]), torch.Size([20, 20]), torch.Size([20]))\n",
    "rnn.weight_ih_l1.shape, rnn.weight_hh_l1.shape, rnn.bias_hh_l1.shape "
   ]
  },
  {
   "cell_type": "markdown",
   "metadata": {},
   "source": [
    "LSTM的结果都变成了4x20，正好是RNN的4倍"
   ]
  },
  {
   "cell_type": "code",
   "execution_count": 4,
   "metadata": {},
   "outputs": [
    {
     "data": {
      "text/plain": [
       "(torch.Size([80, 10]), torch.Size([80, 20]), torch.Size([80]))"
      ]
     },
     "execution_count": 4,
     "metadata": {},
     "output_type": "execute_result"
    }
   ],
   "source": [
    "# 第一层相关参数形状\n",
    "lstm.weight_ih_l0.shape, lstm.weight_hh_l0.shape, lstm.bias_hh_l0.shape"
   ]
  },
  {
   "cell_type": "code",
   "execution_count": 5,
   "metadata": {},
   "outputs": [
    {
     "data": {
      "text/plain": [
       "(torch.Size([80, 20]), torch.Size([80, 20]), torch.Size([80]))"
      ]
     },
     "execution_count": 5,
     "metadata": {},
     "output_type": "execute_result"
    }
   ],
   "source": [
    "# 第二层相关参数形状\n",
    "lstm.weight_ih_l1.shape, lstm.weight_hh_l1.shape, lstm.bias_hh_l1.shape"
   ]
  },
  {
   "cell_type": "code",
   "execution_count": 9,
   "metadata": {},
   "outputs": [],
   "source": [
    "input = torch.randn(100, 32, 10)\n",
    "h_0 = torch.randn(2, 32, 20)\n",
    "h0 = (h_0, h_0)"
   ]
  },
  {
   "cell_type": "code",
   "execution_count": 10,
   "metadata": {},
   "outputs": [],
   "source": [
    "output, h_n = lstm(input, h0)"
   ]
  },
  {
   "cell_type": "code",
   "execution_count": 12,
   "metadata": {},
   "outputs": [
    {
     "data": {
      "text/plain": [
       "(torch.Size([100, 32, 20]), torch.Size([2, 32, 20]), torch.Size([2, 32, 20]))"
      ]
     },
     "execution_count": 12,
     "metadata": {},
     "output_type": "execute_result"
    }
   ],
   "source": [
    "output.size(), h_n[0].size(), h_n[1].size()"
   ]
  },
  {
   "cell_type": "markdown",
   "metadata": {},
   "source": [
    "一个LSTM单元："
   ]
  },
  {
   "cell_type": "code",
   "execution_count": 13,
   "metadata": {},
   "outputs": [],
   "source": [
    "class LSTMCell(nn.Module):\n",
    "    def __init__(self, input_size, hidden_size, cell_size, output_size):\n",
    "        super(LSTMCell, self).__init__()\n",
    "        self.hidden_size = hidden_size\n",
    "        self.cell_size = cell_size\n",
    "        self.gate = nn.Linear(input_size + hidden_size, cell_size)\n",
    "        self.output = nn.Linear(hidden_size, output_size)\n",
    "        self.sigmoid = nn.Sigmoid()\n",
    "        self.tanh = nn.Tanh()\n",
    "        self.softmax = nn.LogSoftmax(dim=1)\n",
    "    def forward(self, input, hidden, cell):\n",
    "        combined = torch.cat((input, hidden), 1)\n",
    "        f_gate = self.sigmoid(self.gate(combined)) # 遗忘门，控制状态保留到下一个状态\n",
    "        i_gate = self.sigmoid(self.gate(combined)) # 输入门，控制输入保留成状态\n",
    "        o_gate = self.sigmoid(self.gate(combined)) # 输出门，控制状态多少进行输出\n",
    "        z_state = self.tanh(self.gate(combined))\n",
    "        cell = torch.add(torch.mul(cell, f_gate), torch.mul(z_state, i_gate))\n",
    "        hidden = torch.mul(self.tanh(cell), o_gate)\n",
    "        output = self.output(hidden)\n",
    "        output = self.softmax(output)\n",
    "        return output, hidden, cell\n",
    "    def initHidden(self):\n",
    "        return torch.zeros(1, self.hidden_size)\n",
    "    def initCell(self):\n",
    "        return torch.zeros(1, self.cell_size)"
   ]
  },
  {
   "cell_type": "code",
   "execution_count": 17,
   "metadata": {},
   "outputs": [],
   "source": [
    "lstm_cell = LSTMCell(input_size=10, hidden_size=20, cell_size=20, output_size=10)"
   ]
  },
  {
   "cell_type": "code",
   "execution_count": 18,
   "metadata": {},
   "outputs": [],
   "source": [
    "input = torch.randn(32, 10)\n",
    "h_0 = torch.randn(32, 20)"
   ]
  },
  {
   "cell_type": "code",
   "execution_count": 20,
   "metadata": {},
   "outputs": [],
   "source": [
    "output, hn, cn = lstm_cell(input, h_0, h_0)"
   ]
  },
  {
   "cell_type": "code",
   "execution_count": 21,
   "metadata": {},
   "outputs": [
    {
     "data": {
      "text/plain": [
       "(torch.Size([32, 10]), torch.Size([32, 20]), torch.Size([32, 20]))"
      ]
     },
     "execution_count": 21,
     "metadata": {},
     "output_type": "execute_result"
    }
   ],
   "source": [
    "output.size(), hn.size(), cn.size()"
   ]
  },
  {
   "cell_type": "markdown",
   "metadata": {},
   "source": [
    "## 2 LSTM词性预测"
   ]
  },
  {
   "cell_type": "code",
   "execution_count": 54,
   "metadata": {},
   "outputs": [],
   "source": [
    "training_data = [\n",
    "    ('The cat ate the fish'.split(), ['DET', 'NN', 'V', 'DET', 'NN']),\n",
    "    ('They read that book'.split(), ['NN', 'V', 'DET', 'NN'])\n",
    "]"
   ]
  },
  {
   "cell_type": "code",
   "execution_count": 55,
   "metadata": {},
   "outputs": [],
   "source": [
    "testing_data = [('They ate the fish'.split())]"
   ]
  },
  {
   "cell_type": "code",
   "execution_count": 56,
   "metadata": {},
   "outputs": [
    {
     "data": {
      "text/plain": [
       "{'The': 0,\n",
       " 'cat': 1,\n",
       " 'ate': 2,\n",
       " 'the': 3,\n",
       " 'fish': 4,\n",
       " 'They': 5,\n",
       " 'read': 6,\n",
       " 'that': 7,\n",
       " 'book': 8}"
      ]
     },
     "execution_count": 56,
     "metadata": {},
     "output_type": "execute_result"
    }
   ],
   "source": [
    "word_to_ix = {} # 单词的索引词典\n",
    "for sent, tags in training_data:\n",
    "    for word in sent:\n",
    "        # word = word.lower() # 不知道是否需要\n",
    "        if word not in word_to_ix:\n",
    "            word_to_ix[word] = len(word_to_ix)\n",
    "word_to_ix"
   ]
  },
  {
   "cell_type": "code",
   "execution_count": 57,
   "metadata": {},
   "outputs": [],
   "source": [
    "tag_to_ix = {'DET': 0, 'NN': 1, 'V': 2} # 手工设置词性的索引字典 DET determiner 限定词  NN  V"
   ]
  },
  {
   "cell_type": "code",
   "execution_count": 58,
   "metadata": {},
   "outputs": [],
   "source": [
    "import torch\n",
    "import torch.nn as nn\n",
    "import torch.nn.functional as F"
   ]
  },
  {
   "cell_type": "code",
   "execution_count": 59,
   "metadata": {},
   "outputs": [],
   "source": [
    "class LSTMTagger(nn.Module):\n",
    "    def __init__(self, embedding_dim, hidden_dim, vocab_size, tagset_size):\n",
    "        super(LSTMTagger, self).__init__()\n",
    "        self.hidden_dim = hidden_dim\n",
    "        self.word_embeddings = nn.Embedding(vocab_size, embedding_dim) # embeddign层\n",
    "        self.lstm = nn.LSTM(embedding_dim, hidden_dim) \n",
    "        self.hidden2tag = nn.Linear(hidden_dim, tagset_size)\n",
    "        self.hidden = self.init_hidden()\n",
    "    # 初始化隐含状态state及C\n",
    "    def init_hidden(self):\n",
    "        return (torch.zeros(1, 1, self.hidden_dim), \n",
    "                torch.zeros(1, 1, self.hidden_dim))\n",
    "    def forward(self, sentence):\n",
    "        # 获得词嵌入矩阵embeds\n",
    "        embeds = self.word_embeddings(sentence)\n",
    "        # 按lstm格式修改embdes的形状\n",
    "        lstm_out, self.hidden = self.lstm(embeds.view(len(sentence), 1, -1), self.hidden)\n",
    "        # 修改隐含状态的形状，作为全连接层的输入\n",
    "        tag_space = self.hidden2tag(lstm_out.view(len(sentence), -1))\n",
    "        # 计算每个单词属于各词性的概率\n",
    "        tag_scores = F.log_softmax(tag_space, dim=1)\n",
    "        return tag_scores"
   ]
  },
  {
   "cell_type": "markdown",
   "metadata": {},
   "source": [
    "把数据转换成模型要求的格式"
   ]
  },
  {
   "cell_type": "code",
   "execution_count": 60,
   "metadata": {},
   "outputs": [],
   "source": [
    "def prepare_sequence(seq, to_ix):\n",
    "    idxs = [to_ix[w] for w in seq]\n",
    "    tensor = torch.LongTensor(idxs)\n",
    "    return tensor"
   ]
  },
  {
   "cell_type": "markdown",
   "metadata": {},
   "source": [
    "训练网络"
   ]
  },
  {
   "cell_type": "code",
   "execution_count": 61,
   "metadata": {},
   "outputs": [],
   "source": [
    "EMBEDDING_DIM = 10\n",
    "HIDDEN_DIM = 3 # 这里等于词性个数\n",
    "model = LSTMTagger(EMBEDDING_DIM, HIDDEN_DIM, len(word_to_ix), len(tag_to_ix))\n",
    "loss_function = nn.NLLLoss()\n",
    "optimizer = torch.optim.SGD(model.parameters(), lr=0.1)"
   ]
  },
  {
   "cell_type": "markdown",
   "metadata": {},
   "source": [
    "简单的运行一次"
   ]
  },
  {
   "cell_type": "code",
   "execution_count": 62,
   "metadata": {},
   "outputs": [],
   "source": [
    "inputs = prepare_sequence(training_data[0][0], word_to_ix)\n",
    "tag_scores = model(inputs)"
   ]
  },
  {
   "cell_type": "code",
   "execution_count": 63,
   "metadata": {},
   "outputs": [
    {
     "data": {
      "text/plain": [
       "(['The', 'cat', 'ate', 'the', 'fish'], tensor([0, 1, 2, 3, 4]))"
      ]
     },
     "execution_count": 63,
     "metadata": {},
     "output_type": "execute_result"
    }
   ],
   "source": [
    "training_data[0][0], inputs"
   ]
  },
  {
   "cell_type": "code",
   "execution_count": 64,
   "metadata": {},
   "outputs": [
    {
     "data": {
      "text/plain": [
       "tensor([[-1.4428, -0.9571, -0.9682],\n",
       "        [-1.3651, -1.0276, -0.9499],\n",
       "        [-1.4358, -0.9852, -0.9450],\n",
       "        [-1.4128, -1.0616, -0.8900],\n",
       "        [-1.5824, -1.0591, -0.8035]], grad_fn=<LogSoftmaxBackward>)"
      ]
     },
     "execution_count": 64,
     "metadata": {},
     "output_type": "execute_result"
    }
   ],
   "source": [
    "tag_scores"
   ]
  },
  {
   "cell_type": "code",
   "execution_count": 65,
   "metadata": {},
   "outputs": [
    {
     "data": {
      "text/plain": [
       "torch.return_types.max(\n",
       "values=tensor([-0.9571, -0.9499, -0.9450, -0.8900, -0.8035], grad_fn=<MaxBackward0>),\n",
       "indices=tensor([1, 2, 2, 2, 2]))"
      ]
     },
     "execution_count": 65,
     "metadata": {},
     "output_type": "execute_result"
    }
   ],
   "source": [
    "torch.max(tag_scores, 1)"
   ]
  },
  {
   "cell_type": "markdown",
   "metadata": {},
   "source": [
    "训练模型"
   ]
  },
  {
   "cell_type": "code",
   "execution_count": 66,
   "metadata": {},
   "outputs": [],
   "source": [
    "for epoch in range(400): # 训练400次\n",
    "    for sentence, tags in training_data:\n",
    "        model.zero_grad() # 清除网络之前的梯度值\n",
    "        model.hidden = model.init_hidden() # 重新初始化隐藏层数据\n",
    "        # 按照网络要求的格式处理输入数据和真实标签数据\n",
    "        sentence_in = prepare_sequence(sentence, word_to_ix) \n",
    "        targets = prepare_sequence(tags, tag_to_ix)\n",
    "        # 实例化模型\n",
    "        tag_scores = model(sentence_in)\n",
    "        # 计算损失，反向传递梯度及更新模型参数\n",
    "        loss = loss_function(tag_scores, targets)\n",
    "        loss.backward()\n",
    "        optimizer.step()"
   ]
  },
  {
   "cell_type": "code",
   "execution_count": 68,
   "metadata": {},
   "outputs": [],
   "source": [
    "# 查看模型训练的结果\n",
    "inputs = prepare_sequence(training_data[0][0], word_to_ix)\n",
    "tag_scores = model(inputs)"
   ]
  },
  {
   "cell_type": "code",
   "execution_count": 69,
   "metadata": {},
   "outputs": [
    {
     "data": {
      "text/plain": [
       "(['The', 'cat', 'ate', 'the', 'fish'], tensor([0, 1, 2, 3, 4]))"
      ]
     },
     "execution_count": 69,
     "metadata": {},
     "output_type": "execute_result"
    }
   ],
   "source": [
    "training_data[0][0], inputs"
   ]
  },
  {
   "cell_type": "code",
   "execution_count": 70,
   "metadata": {},
   "outputs": [
    {
     "data": {
      "text/plain": [
       "tensor([[-0.0794, -3.7229, -2.9528],\n",
       "        [-4.9416, -0.0306, -3.7709],\n",
       "        [-3.0128, -3.4794, -0.0834],\n",
       "        [-0.0351, -6.1703, -3.4301],\n",
       "        [-5.3156, -0.0481, -3.1684]], grad_fn=<LogSoftmaxBackward>)"
      ]
     },
     "execution_count": 70,
     "metadata": {},
     "output_type": "execute_result"
    }
   ],
   "source": [
    "tag_scores"
   ]
  },
  {
   "cell_type": "code",
   "execution_count": 71,
   "metadata": {},
   "outputs": [
    {
     "data": {
      "text/plain": [
       "torch.return_types.max(\n",
       "values=tensor([-0.0794, -0.0306, -0.0834, -0.0351, -0.0481], grad_fn=<MaxBackward0>),\n",
       "indices=tensor([0, 1, 2, 0, 1]))"
      ]
     },
     "execution_count": 71,
     "metadata": {},
     "output_type": "execute_result"
    }
   ],
   "source": [
    "torch.max(tag_scores, 1) # 精确度为100%"
   ]
  },
  {
   "cell_type": "markdown",
   "metadata": {},
   "source": [
    "测试模型"
   ]
  },
  {
   "cell_type": "code",
   "execution_count": 73,
   "metadata": {},
   "outputs": [],
   "source": [
    "test_inputs = prepare_sequence(testing_data[0], word_to_ix)\n",
    "tag_scores01 = model(test_inputs)"
   ]
  },
  {
   "cell_type": "code",
   "execution_count": 74,
   "metadata": {},
   "outputs": [
    {
     "data": {
      "text/plain": [
       "(['They', 'ate', 'the', 'fish'], tensor([5, 2, 3, 4]))"
      ]
     },
     "execution_count": 74,
     "metadata": {},
     "output_type": "execute_result"
    }
   ],
   "source": [
    "testing_data[0], test_inputs"
   ]
  },
  {
   "cell_type": "code",
   "execution_count": 75,
   "metadata": {},
   "outputs": [
    {
     "data": {
      "text/plain": [
       "tensor([[-6.4252, -0.0239, -3.8151],\n",
       "        [-3.1983, -3.6759, -0.0685],\n",
       "        [-0.0358, -6.1995, -3.4067],\n",
       "        [-5.3140, -0.0486, -3.1568]], grad_fn=<LogSoftmaxBackward>)"
      ]
     },
     "execution_count": 75,
     "metadata": {},
     "output_type": "execute_result"
    }
   ],
   "source": [
    "tag_scores01"
   ]
  },
  {
   "cell_type": "code",
   "execution_count": 76,
   "metadata": {},
   "outputs": [
    {
     "data": {
      "text/plain": [
       "torch.return_types.max(\n",
       "values=tensor([-0.0794, -0.0306, -0.0834, -0.0351, -0.0481], grad_fn=<MaxBackward0>),\n",
       "indices=tensor([0, 1, 2, 0, 1]))"
      ]
     },
     "execution_count": 76,
     "metadata": {},
     "output_type": "execute_result"
    }
   ],
   "source": [
    "torch.max(tag_scores, 1) # 精确度为100%"
   ]
  }
 ],
 "metadata": {
  "kernelspec": {
   "display_name": "pytorch",
   "language": "python",
   "name": "pytorch"
  },
  "language_info": {
   "codemirror_mode": {
    "name": "ipython",
    "version": 3
   },
   "file_extension": ".py",
   "mimetype": "text/x-python",
   "name": "python",
   "nbconvert_exporter": "python",
   "pygments_lexer": "ipython3",
   "version": "3.7.12"
  }
 },
 "nbformat": 4,
 "nbformat_minor": 4
}
